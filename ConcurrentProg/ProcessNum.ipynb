{
 "cells": [
  {
   "cell_type": "markdown",
   "metadata": {},
   "source": [
    "## 控制进程数量的两种方式\n",
    "\n",
    "1. 进程池\n",
    "2. Semaphore，进程锁"
   ]
  },
  {
   "cell_type": "code",
   "execution_count": null,
   "metadata": {},
   "outputs": [],
   "source": [
    "import pandas as pd \n",
    "import numpy as np \n",
    "import multiprocessing as mp\n",
    "import time \n",
    "from multiprocessing import Process, Pool, Queue, Semaphore\n",
    "mp.set_start_method('fork')\n",
    "from queue import Empty"
   ]
  },
  {
   "cell_type": "code",
   "execution_count": null,
   "metadata": {},
   "outputs": [],
   "source": [
    "def genDf(df_queue):\n",
    "    df = pd.DataFrame(np.random.rand(3,3))\n",
    "    df_queue.put(df)\n",
    "    return 0\n",
    "\n",
    "def write_df(df_queue: Queue, csv_name: str):\n",
    "    num = 0\n",
    "    while True:\n",
    "        try:\n",
    "            df = df_queue.get(timeout=5)\n",
    "            df.to_csv(csv_name+\"_\"+str(num)+\".csv\")\n",
    "            num += 1\n",
    "            print(\"write 1 data\")\n",
    "        except Empty:\n",
    "            break\n",
    "    return 0\n",
    "\n",
    "def main():\n",
    "\n",
    "    csv_name = \"data/temp/test\"\n",
    "    m = mp.Manager()\n",
    "    df_queue = m.Queue()\n",
    "    pool = mp.Pool(4)\n",
    "    writor = pool.apply_async(write_df, (df_queue, csv_name))\n",
    "    jobs = []\n",
    "    for i in range(20):\n",
    "        job = pool.apply_async(genDf, (df_queue,))\n",
    "        jobs.append(job)\n",
    "    \n",
    "    for job in jobs:\n",
    "        job.get()\n",
    "    \n",
    "    writor.get()\n",
    "    pool.close()\n",
    "    pool.join()\n",
    "    \n"
   ]
  },
  {
   "cell_type": "code",
   "execution_count": null,
   "metadata": {},
   "outputs": [],
   "source": [
    "def genDf(df_queue, sema: Semaphore):\n",
    "    sema.acquire() # 计数器减一\n",
    "    print(f\"Process {mp.current_process().name} starting\")\n",
    "    df = pd.DataFrame(np.random.rand(3,3))\n",
    "    df_queue.put(df)\n",
    "    time.sleep(5)\n",
    "    sema.release() # 计数器加一\n",
    "    return 0\n",
    "\n",
    "def write_df(df_queue: Queue, csv_name: str):\n",
    "    num = 0\n",
    "    while True:\n",
    "        try:\n",
    "            df = df_queue.get(timeout=10)\n",
    "            df.to_csv(csv_name+\"_\"+str(num)+\".csv\")\n",
    "            num += 1\n",
    "            print(\"write 1 data\")\n",
    "        except Empty:\n",
    "            break\n",
    "    return 0\n",
    "\n",
    "def main2():\n",
    "    sema = Semaphore(3)\n",
    "    df_queue = Queue()\n",
    "    writor = Process(target=write_df, args=(df_queue, \"data/temp/test\"))\n",
    "    writor.start()\n",
    "    p_ls = []\n",
    "    for i in range(20):\n",
    "        p = Process(target=genDf, args=(df_queue, sema), name=str(i))\n",
    "        p_ls.append(p)\n",
    "        p.start()\n",
    "\n",
    "    for p in p_ls:\n",
    "        p.join()\n",
    "    writor.join()"
   ]
  },
  {
   "cell_type": "code",
   "execution_count": null,
   "metadata": {},
   "outputs": [],
   "source": [
    "main2()"
   ]
  }
 ],
 "metadata": {
  "interpreter": {
   "hash": "f0146373c32dc03127ec6bba3fe790e42078c8d1cee5cdf638507b26396ff2a1"
  },
  "kernelspec": {
   "display_name": "Python 3.8.5 64-bit ('base': conda)",
   "name": "python3"
  },
  "language_info": {
   "name": "python",
   "version": ""
  },
  "metadata": {
   "interpreter": {
    "hash": "f0146373c32dc03127ec6bba3fe790e42078c8d1cee5cdf638507b26396ff2a1"
   }
  },
  "orig_nbformat": 2
 },
 "nbformat": 4,
 "nbformat_minor": 2
}