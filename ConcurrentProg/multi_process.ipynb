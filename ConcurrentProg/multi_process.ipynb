{
 "metadata": {
  "language_info": {
   "codemirror_mode": {
    "name": "ipython",
    "version": 3
   },
   "file_extension": ".py",
   "mimetype": "text/x-python",
   "name": "python",
   "nbconvert_exporter": "python",
   "pygments_lexer": "ipython3",
   "version": "3.8.5"
  },
  "orig_nbformat": 4,
  "kernelspec": {
   "name": "python3",
   "display_name": "Python 3.8.5 64-bit ('base': conda)"
  },
  "interpreter": {
   "hash": "f0146373c32dc03127ec6bba3fe790e42078c8d1cee5cdf638507b26396ff2a1"
  }
 },
 "nbformat": 4,
 "nbformat_minor": 2,
 "cells": [
  {
   "source": [
    "#### 多进程multiprocess与多进程threading对比\n",
    "| 语法条目       | 多线程                    | 多进程                        |\n",
    "| ------          | -----                    | ------                        |\n",
    "|引入模块           | from threading import Thread | from multiprocessing import Process|\n",
    "|新建<br> 启动<br> 等待结束<br>| t = Thread(target=func, args=(100, ))<br> t.start()<br>t.join()| p = Process(target=func, args=('bob', ))<br>p.start()<br>p.join()|\n",
    "|数据通信       |import queue<br>q = queue.Queue()<br>q.put(item)<br>item = q.get()| from multiprocessing import Queue<br> q = Queue()<br>q.put(\\[42, None, 'hello'\\])<br>item = q.get()|\n",
    "|线程安全加锁 |from threading import Lock <br> lock = Lock() <br> with lock:<br>    do something|from multiprocessing import Lock <br> lock = Lock() <br> with lock:<br>    do something|\n",
    "|池化技术     |from concurrent.futures import ThreadPoolExecutor<br>with ThreadPoolExecutor() as pool:<br>    results = pool.map(func, \\[1,2,3\\])<br>    # 方法二：<br>    future = pool.submit(func, 1)<br>    result = future.result()|from concurrent.futures import ProcessPoolExecutor<br>with ProcessPoolExecutor() as pool:<br>    results = pool.map(func, \\[1,2,3\\])<br>    # 方法二：<br>    future = pool.submit(func, 1)<br>    result = future.result()|"
   ],
   "cell_type": "markdown",
   "metadata": {}
  },
  {
   "cell_type": "code",
   "execution_count": 2,
   "metadata": {},
   "outputs": [],
   "source": [
    "import numpy as np \n",
    "import math \n",
    "from concurrent.futures import ThreadPoolExecutor, ProcessPoolExecutor\n",
    "import time \n",
    "\n",
    "PRIMES = [112272535095293] * 100\n",
    "\n",
    "def is_prime(n):\n",
    "    if n < 2:\n",
    "        return False\n",
    "    elif n == 2:\n",
    "        return True \n",
    "    elif n % 2 == 0:\n",
    "        return False\n",
    "    sqrt_n = math.floor(math.sqrt(n))\n",
    "    for i in range(3, sqrt_n + 1, 2):\n",
    "        if n % i == 0:\n",
    "            return False\n",
    "    return True \n",
    "\n",
    "def single_thread():\n",
    "    for n in PRIMES:\n",
    "        is_prime(n)\n",
    "\n",
    "def multi_thread():\n",
    "    with ThreadPoolExecutor() as pool:\n",
    "        pool.map(is_prime, PRIMES) \n",
    "\n",
    "# 多进程必须在 __name__ == \"__main__\" 下使用\n",
    "def multi_proc():\n",
    "    with ProcessPoolExecutor() as pool:\n",
    "        result = pool.map(is_prime, PRIMES) \n",
    "    for r in result:\n",
    "        print(r)"
   ]
  },
  {
   "cell_type": "code",
   "execution_count": 3,
   "metadata": {},
   "outputs": [
    {
     "output_type": "stream",
     "name": "stdout",
     "text": [
      "True\nTrue\nTrue\nTrue\nTrue\nTrue\nTrue\nTrue\nTrue\nTrue\nTrue\nTrue\nTrue\nTrue\nTrue\nTrue\nTrue\nTrue\nTrue\nTrue\nTrue\nTrue\nTrue\nTrue\nTrue\nTrue\nTrue\nTrue\nTrue\nTrue\nTrue\nTrue\nTrue\nTrue\nTrue\nTrue\nTrue\nTrue\nTrue\nTrue\nTrue\nTrue\nTrue\nTrue\nTrue\nTrue\nTrue\nTrue\nTrue\nTrue\nTrue\nTrue\nTrue\nTrue\nTrue\nTrue\nTrue\nTrue\nTrue\nTrue\nTrue\nTrue\nTrue\nTrue\nTrue\nTrue\nTrue\nTrue\nTrue\nTrue\nTrue\nTrue\nTrue\nTrue\nTrue\nTrue\nTrue\nTrue\nTrue\nTrue\nTrue\nTrue\nTrue\nTrue\nTrue\nTrue\nTrue\nTrue\nTrue\nTrue\nTrue\nTrue\nTrue\nTrue\nTrue\nTrue\nTrue\nTrue\nTrue\nTrue\nmulti process cost time 8.8s\n"
     ]
    }
   ],
   "source": [
    "# bg = time.time()\n",
    "# single_thread()\n",
    "# ed = time.time()\n",
    "# print(f\"single thread cost time {round(ed-bg, 3)}s\")\n",
    "\n",
    "# bg = time.time()\n",
    "# multi_thread()\n",
    "# ed = time.time()\n",
    "# print(f\"multi thread cost time {round(ed-bg, 3)}s\")\n",
    "\n",
    "import multiprocessing as mp  \n",
    "# global set context for multiprocessing\n",
    "# mp.set_start_method(\"fork\")\n",
    "\n",
    "bg = time.time()\n",
    "\n",
    "# locally set context\n",
    "with ProcessPoolExecutor(mp_context=mp.get_context('fork')) as pool:\n",
    "    result = pool.map(is_prime, PRIMES) \n",
    "\n",
    "# with ProcessPoolExecutor() as pool:\n",
    "#     result = pool.map(is_prime, PRIMES) \n",
    "for r in result:\n",
    "    print(r)\n",
    "ed = time.time()\n",
    "print(f\"multi process cost time {round(ed-bg, 3)}s\")"
   ]
  },
  {
   "cell_type": "code",
   "execution_count": 1,
   "metadata": {},
   "outputs": [
    {
     "output_type": "stream",
     "name": "stdout",
     "text": [
      "True\nTrue\nTrue\nTrue\nTrue\nTrue\nTrue\nTrue\nTrue\nTrue\nTrue\nTrue\nTrue\nTrue\nTrue\nTrue\nTrue\nTrue\nTrue\nTrue\nTrue\nTrue\nTrue\nTrue\nTrue\nTrue\nTrue\nTrue\nTrue\nTrue\nTrue\nTrue\nTrue\nTrue\nTrue\nTrue\nTrue\nTrue\nTrue\nTrue\nTrue\nTrue\nTrue\nTrue\nTrue\nTrue\nTrue\nTrue\nTrue\nTrue\nTrue\nTrue\nTrue\nTrue\nTrue\nTrue\nTrue\nTrue\nTrue\nTrue\nTrue\nTrue\nTrue\nTrue\nTrue\nTrue\nTrue\nTrue\nTrue\nTrue\nTrue\nTrue\nTrue\nTrue\nTrue\nTrue\nTrue\nTrue\nTrue\nTrue\nTrue\nTrue\nTrue\nTrue\nTrue\nTrue\nTrue\nTrue\nTrue\nTrue\nTrue\nTrue\nTrue\nTrue\nTrue\nTrue\nTrue\nTrue\nTrue\nTrue\n"
     ]
    }
   ],
   "source": [
    "from multi_proc_test import multi_proc\n",
    "# macos 默认采用的子进程继承方式为 spawn，spawn不会从父进程继承代码\n",
    "# 所以要将所有代码import进同一个主进程里\n",
    "multi_proc()"
   ]
  },
  {
   "cell_type": "code",
   "execution_count": null,
   "metadata": {},
   "outputs": [],
   "source": []
  }
 ]
}