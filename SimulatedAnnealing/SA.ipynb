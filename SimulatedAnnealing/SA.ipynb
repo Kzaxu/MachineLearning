{
 "metadata": {
  "language_info": {
   "codemirror_mode": {
    "name": "ipython",
    "version": 3
   },
   "file_extension": ".py",
   "mimetype": "text/x-python",
   "name": "python",
   "nbconvert_exporter": "python",
   "pygments_lexer": "ipython3",
   "version": "3.8.5"
  },
  "orig_nbformat": 4,
  "kernelspec": {
   "name": "python3",
   "display_name": "Python 3.8.5 64-bit ('base': conda)"
  },
  "interpreter": {
   "hash": "f0146373c32dc03127ec6bba3fe790e42078c8d1cee5cdf638507b26396ff2a1"
  }
 },
 "nbformat": 4,
 "nbformat_minor": 2,
 "cells": [
  {
   "cell_type": "code",
   "execution_count": 28,
   "metadata": {},
   "outputs": [],
   "source": [
    "import numpy as np \n",
    "\n",
    "class SimulatedAnnealing:\n",
    "\n",
    "    def __init__(self, f, T_0=100, Tend=1e-5, L=100, a=0.7):\n",
    "        self.func = f  # 优化函数\n",
    "        self.T_0 = T_0\n",
    "        self.Tend = Tend\n",
    "        self.L = L \n",
    "        self.a = a \n",
    "    \n",
    "    # 随机策略\n",
    "    def g(self, x):\n",
    "        x_n = np.clip(x-1 + 2*np.random.rand(), -1, 1)\n",
    "        return x_n \n",
    "\n",
    "    # 停留概率\n",
    "    def p(self, delta, t):\n",
    "        return 1/(1+np.exp(-delta/t))\n",
    "\n",
    "    def xinit(self):\n",
    "        return np.random.rand()\n",
    "\n",
    "    def run(self):\n",
    "        x_cur = self.xinit()\n",
    "        func_cur = self.func(x_cur)\n",
    "        t = self.T_0\n",
    "        x_opt = x_cur \n",
    "        func_opt = func_cur\n",
    "\n",
    "        while t > self.Tend:\n",
    "            for i in range(self.L):\n",
    "                x_new = self.g(x_cur)\n",
    "                func_new = self.func(x_new)\n",
    "                delta = func_new - func_cur\n",
    "                if delta <=0 or np.random.rand() <= self.p(delta, t):\n",
    "                    x_cur = x_new\n",
    "                    func_cur = func_new\n",
    "                    if func_cur < func_opt:\n",
    "                        x_opt = x_cur\n",
    "                        func_opt = func_cur\n",
    "            t = t * self.a \n",
    "        return x_opt, func_opt"
   ]
  },
  {
   "cell_type": "code",
   "execution_count": 29,
   "metadata": {},
   "outputs": [
    {
     "output_type": "execute_result",
     "data": {
      "text/plain": [
       "(1.0, -0.0)"
      ]
     },
     "metadata": {},
     "execution_count": 29
    }
   ],
   "source": [
    "f = lambda x:(x-2)*(x-1)\n",
    "sa = SimulatedAnnealing(f)\n",
    "sa.run()"
   ]
  }
 ]
}