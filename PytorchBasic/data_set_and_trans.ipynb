{
 "cells": [
  {
   "cell_type": "code",
   "execution_count": 1,
   "metadata": {},
   "outputs": [],
   "source": [
    "import torch "
   ]
  },
  {
   "cell_type": "markdown",
   "metadata": {},
   "source": [
    "### pytorch 加载数据\n",
    "- Dataset 提供一种方式去获取数据以及其 label\n",
    "    - 如何获取每一个数据及其 label\n",
    "    - 告诉我们总共有多少数据\n",
    "- Dataloader 为后面的网络提供不同的数据形式\n",
    "\n",
    "下面展示从蜜蜂蚂蚁数据集hymenoptera_data构建dataset\n"
   ]
  },
  {
   "cell_type": "code",
   "execution_count": 2,
   "metadata": {},
   "outputs": [],
   "source": [
    "# 读取图片数据\n",
    "from glob import glob\n",
    "import cv2  \n",
    "\n",
    "ants_train_dir = \"/Users/xuxu/WorkSpace/PythonProjects/MachineLearning/PytorchBasic/_data/hymenoptera_data/hymenoptera_data/train/ants\"\n",
    "bees_train_dir = \"/Users/xuxu/WorkSpace/PythonProjects/MachineLearning/PytorchBasic/_data/hymenoptera_data/hymenoptera_data/train/bees\"\n",
    "\n",
    "ants_train_paths = glob(ants_train_dir + \"/*.jpg\")\n",
    "img = cv2.imread(ants_train_paths[29])"
   ]
  },
  {
   "cell_type": "code",
   "execution_count": 3,
   "metadata": {},
   "outputs": [],
   "source": [
    "from torch.utils.data import Dataset\n",
    "import os \n",
    "import cv2  \n",
    "from glob import glob\n",
    "\n",
    "class MyData(Dataset):\n",
    "\n",
    "    def __init__(self, root_dir, label):\n",
    "        self.root_dir = root_dir \n",
    "        self.label = label\n",
    "        self.path = os.path.join(root_dir, label)\n",
    "        self.img_paths = glob(self.path + \"/*.jpg\")\n",
    "    \n",
    "    # idx 如果不是整数，则不能进行 dataset 相加\n",
    "    def __getitem__(self, idx):\n",
    "        img_path = self.img_paths[idx]\n",
    "        img = cv2.imread(img_path)\n",
    "        label = self.label\n",
    "        return img, label \n",
    "\n",
    "    def __len__(self):\n",
    "        return len(self.img_paths)\n",
    "\n",
    "\n",
    "ants_train_data = MyData('_data/hymenoptera_data/hymenoptera_data/train', 'ants')\n",
    "bees_train_data = MyData('_data/hymenoptera_data/hymenoptera_data/train', 'bees')\n",
    "train_data = ants_train_data + bees_train_data"
   ]
  },
  {
   "cell_type": "markdown",
   "metadata": {},
   "source": [
    "### Tensorboard 的使用"
   ]
  },
  {
   "cell_type": "code",
   "execution_count": 4,
   "metadata": {},
   "outputs": [],
   "source": [
    "# vscode 中通过命令打开 tensorboard\n",
    "from torch.utils.tensorboard import SummaryWriter\n",
    "\n",
    "writer = SummaryWriter(\"_log\")\n",
    "# train_data[0][0].shape (375, 500, 3)，使用dataformats指定图像格式，hight，wide，channel\n",
    "writer.add_image(\"test\", train_data[0][0], 0, dataformats=\"HWC\")\n",
    "for i in range(100): \n",
    "    # 参数，唯一标识, y, x\n",
    "    writer.add_scalar(\"y=x^1.5\", i**1.5+500, i)\n",
    "writer.close()"
   ]
  },
  {
   "cell_type": "markdown",
   "metadata": {},
   "source": [
    "### 常见的transform\n",
    "\n",
    "1. Compose: 类似与sklearn的pipline，将多个transform进行组合\n",
    "2. ToTensor: 将图像变为tensor\n",
    "3. Normalize: 归一化 (channel)\n",
    "4. Resize: 缩放至指定尺寸\n",
    "5. RandomCrop: 随机裁剪\n"
   ]
  },
  {
   "cell_type": "code",
   "execution_count": 14,
   "metadata": {},
   "outputs": [
    {
     "name": "stdout",
     "output_type": "stream",
     "text": [
      "torch.Size([3, 375, 500])\n",
      "torch.Size([3, 512, 512])\n"
     ]
    }
   ],
   "source": [
    "from torchvision import transforms\n",
    "from torch.utils.tensorboard import SummaryWriter\n",
    "\n",
    "writer = SummaryWriter(\"./_log\")\n",
    "trans_tensor = transforms.ToTensor()\n",
    "img_ndarray = train_data[0][0]\n",
    "img_tensor = trans_tensor(img_ndarray)\n",
    "writer.add_image( \"ToTensor\", img_tensor)\n",
    "\n",
    "\n",
    "trans_norm = transforms.Normalize([0.5, 0.5, 0.5], [0.5, 0.5, 0.5])\n",
    "img_norm = trans_norm(img_tensor)\n",
    "writer.add_image( \"Normalize\", img_norm)\n",
    "\n",
    "\n",
    "print(img_tensor.size())\n",
    "trans_resize = transforms.Resize((512, 512))\n",
    "img_resize = trans_resize(img_tensor)\n",
    "print(img_resize.size())\n",
    "writer.add_image( \"Resize\", img_resize)\n",
    "\n",
    "\n",
    "trans_compose = transforms.Compose([trans_tensor, trans_norm, trans_resize])\n",
    "img_r = trans_compose(img_ndarray)\n",
    "writer.add_image( \"compose\", img_r)\n",
    "\n",
    "trans_rc = transforms.RandomCrop((300, 300))\n",
    "for i in range(4):\n",
    "    img_rc = trans_rc(img_tensor)\n",
    "    writer.add_image( \"RandomCrop\", img_rc, i)\n",
    "writer.close()\n"
   ]
  },
  {
   "cell_type": "markdown",
   "metadata": {},
   "source": [
    "### torchvision 中的数据集\n",
    "\n",
    "数据集样例"
   ]
  },
  {
   "cell_type": "code",
   "execution_count": 6,
   "metadata": {},
   "outputs": [
    {
     "name": "stdout",
     "output_type": "stream",
     "text": [
      "Files already downloaded and verified\n",
      "Files already downloaded and verified\n"
     ]
    }
   ],
   "source": [
    "import torchvision\n",
    "from torch.utils.tensorboard import SummaryWriter\n",
    "\n",
    "dataset_transform = torchvision.transforms.Compose([\n",
    "    torchvision.transforms.ToTensor()\n",
    "])\n",
    "tran_set = torchvision.datasets.CIFAR10(root=\"./_data\", train=True, transform= dataset_transform, download=True)\n",
    "test_set = torchvision.datasets.CIFAR10(root=\"./_data\", train=False, transform= dataset_transform, download=True)\n",
    "\n",
    "# print(test_set[0])\n",
    "# print(test_set.classes)\n",
    "\n",
    "# img, target = test_set[0]\n",
    "# print(img)\n",
    "# print(target)\n",
    "# print(test_set.classes[target])\n",
    "# img.show()\n",
    "\n",
    "writer = SummaryWriter(\"./_log/p10\")\n",
    "for i in range(10):\n",
    "    img, t = test_set[i]\n",
    "    writer.add_image(\"test_set\", img, i)\n",
    "writer.close()\n",
    "\n"
   ]
  }
 ],
 "metadata": {
  "interpreter": {
   "hash": "f0146373c32dc03127ec6bba3fe790e42078c8d1cee5cdf638507b26396ff2a1"
  },
  "kernelspec": {
   "display_name": "Python 3.8.5 64-bit ('base': conda)",
   "name": "python3"
  },
  "language_info": {
   "codemirror_mode": {
    "name": "ipython",
    "version": 3
   },
   "file_extension": ".py",
   "mimetype": "text/x-python",
   "name": "python",
   "nbconvert_exporter": "python",
   "pygments_lexer": "ipython3",
   "version": "3.8.5"
  },
  "orig_nbformat": 4
 },
 "nbformat": 4,
 "nbformat_minor": 2
}