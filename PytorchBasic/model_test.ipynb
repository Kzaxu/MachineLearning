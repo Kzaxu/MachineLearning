{
 "cells": [
  {
   "cell_type": "markdown",
   "metadata": {},
   "source": [
    "## 完整的模型验证套路"
   ]
  },
  {
   "cell_type": "code",
   "execution_count": 4,
   "metadata": {},
   "outputs": [],
   "source": [
    "import cv2\n",
    "import torchvision\n",
    "import torch.nn as nn\n",
    "import torch \n",
    "\n",
    "img_path = \"./_data/test_data/src=http___pngimg.com_uploads_dog_dog_PNG194.png&refer=http___pngimg.png\"\n",
    "img = cv2.imread(img_path)\n",
    "transform = torchvision.transforms.Compose([\n",
    "    torchvision.transforms.ToTensor(),\n",
    "    torchvision.transforms.Resize((32, 32))\n",
    "])\n",
    "img = transform(img)"
   ]
  },
  {
   "cell_type": "code",
   "execution_count": 6,
   "metadata": {},
   "outputs": [
    {
     "name": "stdout",
     "output_type": "stream",
     "text": [
      "tensor([[ 1.3019,  1.3908,  0.0850,  0.4111, -1.7184,  0.1925, -1.8017, -0.5275,\n",
      "          0.7289, -0.0433]])\n",
      "tensor([1])\n"
     ]
    }
   ],
   "source": [
    "class Foo(nn.Module):\n",
    "    \n",
    "    def __init__(self):\n",
    "        super().__init__()\n",
    "        self.model = nn.Sequential(\n",
    "            nn.Conv2d(3, 32, 5, padding=2),\n",
    "            nn.MaxPool2d(2),\n",
    "            nn.Conv2d(32, 32, 5, padding=2),\n",
    "            nn.MaxPool2d(2),\n",
    "            nn.Conv2d(32, 64, 5, padding=2),\n",
    "            nn.MaxPool2d(2),\n",
    "            nn.Flatten(),\n",
    "            nn.Linear(64*4*4, 64),\n",
    "            nn.Linear(64, 10)        \n",
    "        )\n",
    "\n",
    "    def forward(self, x):\n",
    "        x = self.model(x)\n",
    "        return x \n",
    "\n",
    "model = torch.load(\"_model/foo_1.pth\")\n",
    "# 加载 GPU 模型\n",
    "# model = torch.load(\"_model/foo_1_gpu.pth\", map_location=torch.device(\"cpu\"))\n",
    "image = img.reshape((1, 3, 32, 32))\n",
    "model.eval()\n",
    "with torch.no_grad():\n",
    "    output = model(image)\n",
    "\n",
    "print(output)\n",
    "print(output.argmax(1))"
   ]
  },
  {
   "cell_type": "code",
   "execution_count": null,
   "metadata": {},
   "outputs": [],
   "source": []
  }
 ],
 "metadata": {
  "interpreter": {
   "hash": "4b3b2c34765c76e21e0252fae69fe5ed2b1a8c4bdf0639c5ee4361f2cd4bd0bf"
  },
  "kernelspec": {
   "display_name": "Python 3.8.5 64-bit ('base': conda)",
   "name": "python3"
  },
  "language_info": {
   "name": "python",
   "version": "3.8.5"
  },
  "orig_nbformat": 4
 },
 "nbformat": 4,
 "nbformat_minor": 2
}
