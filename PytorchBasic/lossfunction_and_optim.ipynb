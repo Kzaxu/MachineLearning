{
 "cells": [
  {
   "cell_type": "markdown",
   "metadata": {},
   "source": [
    "## loss function"
   ]
  },
  {
   "cell_type": "code",
   "execution_count": null,
   "metadata": {},
   "outputs": [],
   "source": [
    "import torch \n",
    "import torch.nn as nn\n",
    "import torchvision\n",
    "from torchvision.transforms import ToTensor\n",
    "from torch.utils.data import DataLoader"
   ]
  },
  {
   "cell_type": "code",
   "execution_count": null,
   "metadata": {},
   "outputs": [],
   "source": [
    "inputs = torch.tensor([1, 2, 3], dtype=torch.float32).reshape((1, 1, 1, 3))\n",
    "targets = torch.tensor([1, 2, 5], dtype=torch.float32).reshape((1, 1, 1, 3))\n",
    "\n",
    "loss = nn.L1Loss(reduction='sum')\n",
    "result = loss(inputs, targets)\n",
    "print(result)\n",
    "\n",
    "loss_mse = nn.MSELoss()\n",
    "result_mse = loss_mse(inputs, targets)\n",
    "print(result_mse)\n",
    "\n",
    "x = torch.tensor([0.1, 0.2, 0.3]).reshape((1, -1))\n",
    "y = torch.tensor([1])\n",
    "\n",
    "loss_cross = nn .CrossEntropyLoss()\n",
    "result_cross = loss_cross(x, y)\n",
    "print(result_cross)"
   ]
  },
  {
   "cell_type": "markdown",
   "metadata": {},
   "source": [
    "## example for CIFAR 10 Model "
   ]
  },
  {
   "cell_type": "code",
   "execution_count": null,
   "metadata": {},
   "outputs": [],
   "source": [
    "class Foo(nn.Module):\n",
    "    \n",
    "    def __init__(self):\n",
    "        super().__init__()\n",
    "        self.model1 = nn.Sequential(\n",
    "            nn.Conv2d(3, 32, 5, padding=2),\n",
    "            nn.MaxPool2d(2),\n",
    "            nn.Conv2d(32, 32, 5, padding=2),\n",
    "            nn.MaxPool2d(2),\n",
    "            nn.Conv2d(32, 64, 5, padding=2),\n",
    "            nn.MaxPool2d(2),\n",
    "            nn.Flatten(),\n",
    "            nn.Linear(64*4*4, 64),\n",
    "            nn.Linear(64, 10),\n",
    "        )\n",
    "\n",
    "    def forward(self, x):\n",
    "        x = self.model1(x)\n",
    "        return x \n",
    "\n",
    "dataset = torchvision.datasets.CIFAR10(\"./_data\", train=False, transform=ToTensor())\n",
    "dataloader = DataLoader(dataset, batch_size=4)\n",
    "\n",
    "imgs, labels = next(iter(dataloader))\n",
    "foo = Foo()\n",
    "print(foo(imgs).shape)\n",
    "\n",
    "idx = 0 \n",
    "for data in dataloader:\n",
    "    idx += 1\n",
    "    if idx > 10:\n",
    "        break\n",
    "    imgs, labels = data\n",
    "    loss = nn.CrossEntropyLoss()\n",
    "    preds = foo(imgs)\n",
    "    result_loss = loss(preds, labels)\n",
    "    result_loss.backward()\n",
    "\n",
    "# 可以看出已经累计了梯度 \n",
    "# print(next(foo.named_parameters('model1'))[1].grad)"
   ]
  },
  {
   "cell_type": "markdown",
   "metadata": {},
   "source": [
    "## 优化器"
   ]
  },
  {
   "cell_type": "code",
   "execution_count": null,
   "metadata": {},
   "outputs": [],
   "source": [
    "foo = Foo()\n",
    "\n",
    "loss = nn.CrossEntropyLoss()\n",
    "optim = torch.optim.SGD(foo.parameters(), lr=0.01)\n",
    "for epoch in range(20):\n",
    "    running_loss = 0\n",
    "    for data in dataloader:\n",
    "        imgs, labels = data \n",
    "        outputs = foo(imgs)\n",
    "        result_loss = loss(outputs, labels)\n",
    "        optim.zero_grad() # 将每个张量上的梯度清零\n",
    "        result_loss.backward()\n",
    "        optim.step()\n",
    "        running_loss += result_loss\n",
    "    print(f\"running loss is {running_loss}\")\n"
   ]
  },
  {
   "cell_type": "code",
   "execution_count": null,
   "metadata": {},
   "outputs": [],
   "source": []
  }
 ],
 "metadata": {
  "interpreter": {
   "hash": "f0146373c32dc03127ec6bba3fe790e42078c8d1cee5cdf638507b26396ff2a1"
  },
  "kernelspec": {
   "display_name": "Python 3.8.5 64-bit ('base': conda)",
   "name": "python3"
  },
  "language_info": {
   "name": "python",
   "version": ""
  },
  "orig_nbformat": 4
 },
 "nbformat": 4,
 "nbformat_minor": 2
}