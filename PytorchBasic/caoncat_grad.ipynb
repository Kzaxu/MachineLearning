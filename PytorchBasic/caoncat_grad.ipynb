{
 "cells": [
  {
   "cell_type": "markdown",
   "metadata": {},
   "source": [
    "## 测试在何种情况下，可以计算梯度"
   ]
  },
  {
   "cell_type": "code",
   "execution_count": 1,
   "metadata": {},
   "outputs": [],
   "source": [
    "import torch \n",
    "from torch import nn "
   ]
  },
  {
   "cell_type": "code",
   "execution_count": 3,
   "metadata": {},
   "outputs": [],
   "source": [
    "# 可以发现这种情况下是可以计算梯度的\n",
    "\n",
    "class Foo(nn.Module):\n",
    "    def __init__(self):\n",
    "        super().__init__()\n",
    "        w = torch.zeros((3,5)).float()\n",
    "        self.w = nn.Parameter(w)\n",
    "\n",
    "    def forward(self, x):\n",
    "        return self.w @ torch.stack([x[i, 0] for i in range(5)], dim=0)\n",
    "\n",
    "f = Foo()\n",
    "a = torch.randint(0, 10, (10, 1)).float()\n",
    "loss = torch.sum(f(a))\n",
    "loss.backward()\n",
    "list(f.parameters())[0].grad"
   ]
  },
  {
   "cell_type": "code",
   "execution_count": null,
   "metadata": {},
   "outputs": [],
   "source": []
  }
 ],
 "metadata": {
  "interpreter": {
   "hash": "4b3b2c34765c76e21e0252fae69fe5ed2b1a8c4bdf0639c5ee4361f2cd4bd0bf"
  },
  "kernelspec": {
   "display_name": "Python 3.8.5 64-bit ('base': conda)",
   "name": "python3"
  },
  "language_info": {
   "codemirror_mode": {
    "name": "ipython",
    "version": 3
   },
   "file_extension": ".py",
   "mimetype": "text/x-python",
   "name": "python",
   "nbconvert_exporter": "python",
   "pygments_lexer": "ipython3",
   "version": "3.8.5"
  },
  "orig_nbformat": 4
 },
 "nbformat": 4,
 "nbformat_minor": 2
}
