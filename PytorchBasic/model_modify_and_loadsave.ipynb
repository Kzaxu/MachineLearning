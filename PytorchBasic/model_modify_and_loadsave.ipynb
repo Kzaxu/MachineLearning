{
 "cells": [
  {
   "cell_type": "markdown",
   "metadata": {},
   "source": [
    "## 现有模型的使用及修改"
   ]
  },
  {
   "cell_type": "code",
   "execution_count": 1,
   "metadata": {},
   "outputs": [],
   "source": [
    "import torchvision\n",
    "import torch.nn as nn \n",
    "import torch "
   ]
  },
  {
   "cell_type": "code",
   "execution_count": null,
   "metadata": {},
   "outputs": [],
   "source": [
    "vgg16_false = torchvision.models.vgg16(pretrained=False)\n",
    "# pretrained 设置为 True 时需要下载参数数据\n",
    "# vgg16_True = torchvision.models.vgg16(pretrained=True)"
   ]
  },
  {
   "cell_type": "markdown",
   "metadata": {},
   "source": [
    "可以看出 vgg16 输出的维度为1000，因为vgg16是为1000类的分类模型，所以需要在原有模型的基础上进一步修改"
   ]
  },
  {
   "cell_type": "code",
   "execution_count": null,
   "metadata": {},
   "outputs": [],
   "source": [
    "print(vgg16_false)"
   ]
  },
  {
   "cell_type": "markdown",
   "metadata": {},
   "source": [
    "添加层"
   ]
  },
  {
   "cell_type": "code",
   "execution_count": null,
   "metadata": {},
   "outputs": [],
   "source": [
    "train_data = torchvision.datasets.CIFAR10(\"./_data\", train=True, \n",
    "                transform=torchvision.transforms.ToTensor())\n",
    "vgg16_false.classifier.add_module('add_linead', nn.Linear(1000, 10))\n",
    "print(vgg16_false)"
   ]
  },
  {
   "cell_type": "markdown",
   "metadata": {},
   "source": [
    "模型修改"
   ]
  },
  {
   "cell_type": "code",
   "execution_count": null,
   "metadata": {},
   "outputs": [],
   "source": [
    "vgg16_false = torchvision.models.vgg16(pretrained=False)\n",
    "vgg16_false.classifier[6] = nn.Linear(4096, 10)\n",
    "print(vgg16_false)"
   ]
  },
  {
   "cell_type": "markdown",
   "metadata": {},
   "source": [
    "## 模型保存与读取"
   ]
  },
  {
   "cell_type": "code",
   "execution_count": 10,
   "metadata": {},
   "outputs": [],
   "source": [
    "vgg16_false = torchvision.models.vgg16(pretrained=False)\n",
    "# 保存方式一\n",
    "torch.save(vgg16_false, \"./_model/vgg16.pth\")\n",
    "\n",
    "# 保存方式二，只保存参数（推荐）\n",
    "torch.save(vgg16_false.state_dict(), \"./_model/vgg16_params.pth\")"
   ]
  },
  {
   "cell_type": "code",
   "execution_count": 7,
   "metadata": {},
   "outputs": [],
   "source": [
    "# 保存方式一，加载模型\n",
    "model = torch.load(\"./_model/vgg16.pth\")"
   ]
  },
  {
   "cell_type": "code",
   "execution_count": 13,
   "metadata": {},
   "outputs": [
    {
     "data": {
      "text/plain": [
       "<All keys matched successfully>"
      ]
     },
     "execution_count": 13,
     "metadata": {},
     "output_type": "execute_result"
    }
   ],
   "source": [
    "# 保存方式二，加载模型\n",
    "# 先新建网络结构\n",
    "model = torchvision.models.vgg16(pretrained=False)\n",
    "# 加载出的是参数名与参数构成的字典\n",
    "params_dict = torch.load(\"./_model/vgg16_params.pth\")\n",
    "model.load_state_dict(params_dict)\n",
    "# model "
   ]
  },
  {
   "cell_type": "code",
   "execution_count": 3,
   "metadata": {},
   "outputs": [],
   "source": [
    "# 方法一的陷阱\n",
    "\n",
    "class Foo(nn.Module):\n",
    "    \n",
    "    def __init__(self):\n",
    "        super().__init__()\n",
    "        self.conv1 = nn.Conv2d(1, 1, 3)\n",
    "\n",
    "    def forward(self, x):\n",
    "        return self.conv1(x)\n",
    "\n",
    "foo = Foo()\n",
    "torch.save(foo, \"./_model/foo.pth\")"
   ]
  },
  {
   "cell_type": "code",
   "execution_count": 4,
   "metadata": {},
   "outputs": [],
   "source": [
    "# 如果没有先定义 Foo，则会报错：Can't get attribute 'Foo' on <module '__main__'>\n",
    "model = torch.load(\"./_model/foo.pth\")"
   ]
  },
  {
   "cell_type": "code",
   "execution_count": 5,
   "metadata": {},
   "outputs": [],
   "source": [
    "!rm -rf ./_model/*"
   ]
  }
 ],
 "metadata": {
  "interpreter": {
   "hash": "f0146373c32dc03127ec6bba3fe790e42078c8d1cee5cdf638507b26396ff2a1"
  },
  "kernelspec": {
   "display_name": "Python 3.8.5 64-bit ('base': conda)",
   "name": "python3"
  },
  "language_info": {
   "name": "python",
   "version": ""
  },
  "orig_nbformat": 4
 },
 "nbformat": 4,
 "nbformat_minor": 2
}