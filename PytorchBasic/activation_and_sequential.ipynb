{
 "cells": [
  {
   "cell_type": "markdown",
   "metadata": {},
   "source": [
    "## Activation\n",
    "常用激活函数\n",
    "1. Relu\n",
    "2. Sigmoid"
   ]
  },
  {
   "cell_type": "code",
   "execution_count": 2,
   "metadata": {},
   "outputs": [],
   "source": [
    "import torch\n",
    "import torch.nn as nn\n",
    "import torchvision\n",
    "from torch.utils.tensorboard import SummaryWriter\n",
    "from torch.utils.data import DataLoader\n",
    "import numpy as np "
   ]
  },
  {
   "cell_type": "code",
   "execution_count": 2,
   "metadata": {},
   "outputs": [
    {
     "name": "stdout",
     "output_type": "stream",
     "text": [
      "tensor([[[[0.7311, 0.3775],\n",
      "          [0.2689, 0.9526]]]])\n"
     ]
    }
   ],
   "source": [
    "input_t = torch.tensor([\n",
    "    [1, -0.5],\n",
    "    [-1, 3]\n",
    "])\n",
    "input_t = input_t.reshape((-1, 1, 2, 2))\n",
    "\n",
    "class Foo(nn.Module):\n",
    "\n",
    "    def __init__(self):\n",
    "        super().__init__()\n",
    "        # 如果 inplace=True，会改变原来的变量\n",
    "        self.relu1 = nn.ReLU()\n",
    "        self.sigmoid1 = nn.Sigmoid()\n",
    "\n",
    "    def forward(self, x):\n",
    "        output = self.sigmoid1(x)\n",
    "        return output\n",
    "\n",
    "foo = Foo()\n",
    "print(foo(input_t))\n"
   ]
  },
  {
   "cell_type": "code",
   "execution_count": 5,
   "metadata": {},
   "outputs": [],
   "source": [
    "dataset = torchvision.datasets.CIFAR10(\"./_data\", train=False, \n",
    "            transform=torchvision.transforms.ToTensor())\n",
    "\n",
    "dataloader = DataLoader(dataset, batch_size=64)\n",
    "writer = SummaryWriter(\"./_log/activation\")\n",
    "\n",
    "imgs, labels = next(iter(dataloader))\n",
    "writer.add_images(\"input\", imgs)\n",
    "writer.add_images(\"output\", foo(imgs))\n",
    "writer.close()\n"
   ]
  },
  {
   "cell_type": "markdown",
   "metadata": {},
   "source": [
    "## Normalization Layer\n",
    "\n",
    "正则化层（正则化层是包含参数的！！！）"
   ]
  },
  {
   "cell_type": "markdown",
   "metadata": {},
   "source": [
    "## Linear Layer"
   ]
  },
  {
   "cell_type": "code",
   "execution_count": 21,
   "metadata": {},
   "outputs": [
    {
     "data": {
      "text/plain": [
       "torch.Size([64, 1, 1, 10])"
      ]
     },
     "execution_count": 21,
     "metadata": {},
     "output_type": "execute_result"
    }
   ],
   "source": [
    "img_eles = dataset[0][0].shape\n",
    "reshape_dims = np.prod(img_eles)\n",
    "class Foo(nn.Module):\n",
    "\n",
    "    def __init__(self):\n",
    "        super().__init__()\n",
    "        self.linear1 = nn.Linear(reshape_dims, 10)\n",
    "\n",
    "    def forward(self, x):\n",
    "        x = torch.reshape(x, (-1, 1, 1, reshape_dims))\n",
    "        return self.linear1(x)\n",
    "\n",
    "foo = Foo()\n",
    "foo(imgs).shape"
   ]
  },
  {
   "cell_type": "markdown",
   "metadata": {},
   "source": [
    "## Sequential\n",
    "以 CIFAR 10 Model 为样例："
   ]
  },
  {
   "cell_type": "code",
   "execution_count": 8,
   "metadata": {},
   "outputs": [
    {
     "name": "stdout",
     "output_type": "stream",
     "text": [
      "torch.Size([64, 10])\n"
     ]
    }
   ],
   "source": [
    "class Foo(nn.Module):\n",
    "\n",
    "    def __init__(self):\n",
    "        super().__init__()\n",
    "        # self.conv1 = nn.Conv2d(3, 32, 5, padding=2)\n",
    "        # self.maxpool1 = nn.MaxPool2d(2)\n",
    "        # self.conv2 = nn.Conv2d(32, 32, 5, padding=2)\n",
    "        # self.maxpool2 = nn.MaxPool2d(2)\n",
    "        # self.conv3 = nn.Conv2d(32, 64, 5, padding=2)\n",
    "        # self.maxpool3 = nn.MaxPool2d(2)\n",
    "        # self.flatten = nn.Flatten()\n",
    "        # self.linear1 = nn.Linear(64*4*4, 64)\n",
    "        # self.linear2 = nn.Linear(64, 10)\n",
    "\n",
    "        self.model1 = nn.Sequential(\n",
    "            nn.Conv2d(3, 32, 5, padding=2),\n",
    "            nn.MaxPool2d(2),\n",
    "            nn.Conv2d(32, 32, 5, padding=2),\n",
    "            nn.MaxPool2d(2),\n",
    "            nn.Conv2d(32, 64, 5, padding=2),\n",
    "            nn.MaxPool2d(2),\n",
    "            nn.Flatten(),\n",
    "            nn.Linear(64*4*4, 64),\n",
    "            nn.Linear(64, 10),\n",
    "        )\n",
    "\n",
    "    def forward(self, x):\n",
    "        # x = self.conv1(x)\n",
    "        # x = self.maxpool1(x)\n",
    "        # x = self.conv2(x)\n",
    "        # x = self.maxpool2(x)\n",
    "        # x = self.conv3(x)\n",
    "        # x = self.maxpool3(x)\n",
    "        # x = self.flatten(x)\n",
    "        # x = self.linear1(x)\n",
    "        # x = self.linear2(x)\n",
    "        x = self.model1(x)\n",
    "        return x \n",
    "\n",
    "foo = Foo()\n",
    "input_t = torch.ones((64, 3, 32, 32))\n",
    "output = foo(input_t)\n",
    "print(output.shape)\n",
    "\n",
    "writer = SummaryWriter(\"./_log/seq\")\n",
    "writer.add_graph(foo, input_t)\n",
    "writer.close()\n"
   ]
  },
  {
   "cell_type": "code",
   "execution_count": null,
   "metadata": {},
   "outputs": [],
   "source": []
  }
 ],
 "metadata": {
  "interpreter": {
   "hash": "f0146373c32dc03127ec6bba3fe790e42078c8d1cee5cdf638507b26396ff2a1"
  },
  "kernelspec": {
   "display_name": "Python 3.8.5 64-bit ('base': conda)",
   "name": "python3"
  },
  "language_info": {
   "codemirror_mode": {
    "name": "ipython",
    "version": 3
   },
   "file_extension": ".py",
   "mimetype": "text/x-python",
   "name": "python",
   "nbconvert_exporter": "python",
   "pygments_lexer": "ipython3",
   "version": "3.8.5"
  },
  "orig_nbformat": 4
 },
 "nbformat": 4,
 "nbformat_minor": 2
}