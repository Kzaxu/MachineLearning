{
 "metadata": {
  "language_info": {
   "codemirror_mode": {
    "name": "ipython",
    "version": 3
   },
   "file_extension": ".py",
   "mimetype": "text/x-python",
   "name": "python",
   "nbconvert_exporter": "python",
   "pygments_lexer": "ipython3",
   "version": "3.8.5"
  },
  "orig_nbformat": 4,
  "kernelspec": {
   "name": "python3",
   "display_name": "Python 3.8.5 64-bit ('base': conda)"
  },
  "interpreter": {
   "hash": "f0146373c32dc03127ec6bba3fe790e42078c8d1cee5cdf638507b26396ff2a1"
  }
 },
 "nbformat": 4,
 "nbformat_minor": 2,
 "cells": [
  {
   "cell_type": "code",
   "execution_count": 39,
   "metadata": {},
   "outputs": [],
   "source": [
    "import pandas as pd \n",
    "import numpy as np \n",
    "from IPython.display import clear_output, display"
   ]
  },
  {
   "cell_type": "code",
   "execution_count": 31,
   "metadata": {},
   "outputs": [],
   "source": [
    "# 为了解决旅行商问题\n",
    "\n",
    "def initialize(p_zero, N):\n",
    "    # 创建地图，创建 adjacency matrix\n",
    "    t = np.random.rand(N, N)/2\n",
    "    t = t + t.T\n",
    "    rmap = t * (t > p_zero) * (1 - np.eye(N)) * 100\n",
    "    \n",
    "    # 创建地图中点的距离\n",
    "    return rmap "
   ]
  },
  {
   "cell_type": "code",
   "execution_count": 36,
   "metadata": {},
   "outputs": [
    {
     "output_type": "execute_result",
     "data": {
      "text/plain": [
       "array([[ 0.        , 67.20345905,  0.        ,  0.        ],\n",
       "       [67.20345905,  0.        , 74.60333745, 55.83081238],\n",
       "       [ 0.        , 74.60333745,  0.        , 85.36777691],\n",
       "       [ 0.        , 55.83081238, 85.36777691,  0.        ]])"
      ]
     },
     "metadata": {},
     "execution_count": 36
    }
   ],
   "source": [
    "initialize(0.5, 4)"
   ]
  },
  {
   "cell_type": "code",
   "execution_count": null,
   "metadata": {},
   "outputs": [],
   "source": [
    "def fitness(member):\n",
    "    return 1"
   ]
  },
  {
   "cell_type": "code",
   "execution_count": null,
   "metadata": {},
   "outputs": [],
   "source": [
    "def crossover(a, b):\n",
    "    return a "
   ]
  },
  {
   "cell_type": "code",
   "execution_count": null,
   "metadata": {},
   "outputs": [],
   "source": [
    "def mutate(member):\n",
    "    return member"
   ]
  },
  {
   "cell_type": "code",
   "execution_count": null,
   "metadata": {},
   "outputs": [],
   "source": [
    "def create_new_member():\n",
    "    # create new route\n",
    "    # new route can have any number of steps\n",
    "    # the strucvture of route be a vector of intergers where each value is the next step in the route\n",
    "    # everyone start at 0, so the first value in the vector will indicate where tp attempt to go next \n",
    "    return member "
   ]
  },
  {
   "cell_type": "code",
   "execution_count": null,
   "metadata": {},
   "outputs": [],
   "source": [
    "def create_next_generation(population):\n",
    "    return population"
   ]
  },
  {
   "cell_type": "code",
   "execution_count": null,
   "metadata": {},
   "outputs": [],
   "source": [
    "def main(num_of_iter):\n",
    "    return True "
   ]
  },
  {
   "cell_type": "code",
   "execution_count": 43,
   "metadata": {},
   "outputs": [
    {
     "output_type": "execute_result",
     "data": {
      "text/plain": [
       "array([0.5  , 0.25 , 0.125])"
      ]
     },
     "metadata": {},
     "execution_count": 43
    }
   ],
   "source": [
    "np.logspace(start=1, stop=3, base=0.5, num=3)"
   ]
  },
  {
   "cell_type": "code",
   "execution_count": null,
   "metadata": {},
   "outputs": [],
   "source": []
  }
 ]
}